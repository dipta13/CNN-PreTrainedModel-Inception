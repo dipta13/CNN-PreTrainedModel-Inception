{
  "nbformat": 4,
  "nbformat_minor": 0,
  "metadata": {
    "colab": {
      "name": "CobaTubesCC.ipynb",
      "provenance": [],
      "collapsed_sections": [],
      "mount_file_id": "1QSdhaU1TJ0FDMHybyyeJ5nwltjBDm6T7",
      "authorship_tag": "ABX9TyMoLosP+Cj8pOisFMHTC1Vv",
      "include_colab_link": true
    },
    "kernelspec": {
      "name": "python3",
      "display_name": "Python 3"
    },
    "language_info": {
      "name": "python"
    }
  },
  "cells": [
    {
      "cell_type": "markdown",
      "metadata": {
        "id": "view-in-github",
        "colab_type": "text"
      },
      "source": [
        "<a href=\"https://colab.research.google.com/github/dipta13/CNN-PreTrainedModel-Inception/blob/main/CobaTubesCC.ipynb\" target=\"_parent\"><img src=\"https://colab.research.google.com/assets/colab-badge.svg\" alt=\"Open In Colab\"/></a>"
      ]
    },
    {
      "cell_type": "code",
      "execution_count": 92,
      "metadata": {
        "id": "tpOpYj3umRQe"
      },
      "outputs": [],
      "source": [
        "from google.colab import drive"
      ]
    },
    {
      "cell_type": "code",
      "source": [
        "cd /content/drive/MyDrive/DATASET"
      ],
      "metadata": {
        "colab": {
          "base_uri": "https://localhost:8080/"
        },
        "id": "8t5gjhK1mm7p",
        "outputId": "0beaf1bc-7958-4aba-e836-78dd1bddf71d"
      },
      "execution_count": 93,
      "outputs": [
        {
          "output_type": "stream",
          "name": "stdout",
          "text": [
            "/content/drive/MyDrive/DATASET\n"
          ]
        }
      ]
    },
    {
      "cell_type": "code",
      "source": [
        "from tensorflow.keras.preprocessing.image import ImageDataGenerator\n",
        "from tensorflow.keras.applications import MobileNetV2\n",
        "from tensorflow.keras.layers import AveragePooling2D\n",
        "from tensorflow.keras.layers import Dropout\n",
        "from tensorflow.keras.layers import Flatten\n",
        "from tensorflow.keras.layers import Dense\n",
        "from tensorflow.keras.layers import Input\n",
        "from tensorflow.keras.models import Model\n",
        "from tensorflow.keras.optimizers import Adam\n",
        "from tensorflow.keras.applications.mobilenet_v2 import preprocess_input\n",
        "from tensorflow.keras.preprocessing.image import img_to_array\n",
        "from tensorflow.keras.preprocessing.image import load_img\n",
        "from tensorflow.keras.utils import to_categorical\n",
        "from sklearn.preprocessing import LabelBinarizer\n",
        "from sklearn.model_selection import train_test_split\n",
        "from sklearn.metrics import classification_report\n",
        "from imutils import paths\n",
        "import matplotlib.pyplot as plt\n",
        "import numpy as np\n",
        "\n",
        "import os"
      ],
      "metadata": {
        "id": "Z3pHAyU6muxe"
      },
      "execution_count": 11,
      "outputs": []
    },
    {
      "cell_type": "code",
      "source": [
        "# initialize the initial learning rate, number of epochs to train for,\n",
        "# and batch size \n",
        "INIT_LR= 1e-4\n",
        "EPOCHS = 5\n",
        "BS = 32"
      ],
      "metadata": {
        "id": "BUVNDVPOnRp7"
      },
      "execution_count": 12,
      "outputs": []
    },
    {
      "cell_type": "code",
      "source": [
        "# grab the list of images in our dataset directory, then initialize\n",
        "# the list of data (i.e., images) and class images\n",
        "print(\"[INFO] loading images...\")\n",
        "imagePaths = list(paths.list_images(\"/content/drive/MyDrive/DATASET/JERAWAT\"))\n",
        "data = []\n",
        "labels = []"
      ],
      "metadata": {
        "colab": {
          "base_uri": "https://localhost:8080/"
        },
        "id": "T-JezFPOnYE7",
        "outputId": "b61dbac2-8753-4cb9-88ec-11019ab116bb"
      },
      "execution_count": 13,
      "outputs": [
        {
          "output_type": "stream",
          "name": "stdout",
          "text": [
            "[INFO] loading images...\n"
          ]
        }
      ]
    },
    {
      "cell_type": "code",
      "source": [
        "# loop over the image paths\n",
        "for imagePath in imagePaths:\n",
        "\t# extract the class label from the filename\n",
        "\tlabel = imagePath.split(os.path.sep)[-2]\n",
        "\n",
        "\t# load the input image (224x224) and preprocess it\n",
        "\timage = load_img(imagePath,target_size=(224,224))\n",
        "\tprint(image)\n",
        "\timage = img_to_array(image)\n",
        "\timage = preprocess_input(image)\n",
        "\n",
        "\t# update the data and labels lists, respectively\n",
        "\tdata.append(image)\n",
        "\tlabels.append(label)"
      ],
      "metadata": {
        "colab": {
          "base_uri": "https://localhost:8080/"
        },
        "id": "psU2INYhq34M",
        "outputId": "08304092-9f15-44e7-ebc6-b6f8a0a1832b"
      },
      "execution_count": 14,
      "outputs": [
        {
          "output_type": "stream",
          "name": "stdout",
          "text": [
            "<PIL.Image.Image image mode=RGB size=224x224 at 0x7F1C27333690>\n",
            "<PIL.Image.Image image mode=RGB size=224x224 at 0x7F1C27333690>\n",
            "<PIL.Image.Image image mode=RGB size=224x224 at 0x7F1C27333690>\n",
            "<PIL.Image.Image image mode=RGB size=224x224 at 0x7F1C27333690>\n",
            "<PIL.Image.Image image mode=RGB size=224x224 at 0x7F1C27333690>\n",
            "<PIL.Image.Image image mode=RGB size=224x224 at 0x7F1C226DBE90>\n",
            "<PIL.Image.Image image mode=RGB size=224x224 at 0x7F1C226DB850>\n",
            "<PIL.Image.Image image mode=RGB size=224x224 at 0x7F1C226DBE50>\n",
            "<PIL.Image.Image image mode=RGB size=224x224 at 0x7F1C226DBE90>\n",
            "<PIL.Image.Image image mode=RGB size=224x224 at 0x7F1C27333690>\n",
            "<PIL.Image.Image image mode=RGB size=224x224 at 0x7F1C226DBE90>\n",
            "<PIL.Image.Image image mode=RGB size=224x224 at 0x7F1C226DBB50>\n",
            "<PIL.Image.Image image mode=RGB size=224x224 at 0x7F1C27333690>\n",
            "<PIL.Image.Image image mode=RGB size=224x224 at 0x7F1C226DB850>\n",
            "<PIL.Image.Image image mode=RGB size=224x224 at 0x7F1C27333690>\n",
            "<PIL.Image.Image image mode=RGB size=224x224 at 0x7F1C226DBB50>\n",
            "<PIL.Image.Image image mode=RGB size=224x224 at 0x7F1C27333690>\n",
            "<PIL.Image.Image image mode=RGB size=224x224 at 0x7F1C27333690>\n",
            "<PIL.Image.Image image mode=RGB size=224x224 at 0x7F1C27333690>\n",
            "<PIL.Image.Image image mode=RGB size=224x224 at 0x7F1C226DBE90>\n",
            "<PIL.Image.Image image mode=RGB size=224x224 at 0x7F1C27333690>\n",
            "<PIL.Image.Image image mode=RGB size=224x224 at 0x7F1C27333690>\n",
            "<PIL.Image.Image image mode=RGB size=224x224 at 0x7F1C27333690>\n",
            "<PIL.Image.Image image mode=RGB size=224x224 at 0x7F1C273ACBD0>\n",
            "<PIL.Image.Image image mode=RGB size=224x224 at 0x7F1C273ACFD0>\n",
            "<PIL.Image.Image image mode=RGB size=224x224 at 0x7F1C273ACE10>\n",
            "<PIL.Image.Image image mode=RGB size=224x224 at 0x7F1C273ACBD0>\n",
            "<PIL.Image.Image image mode=RGB size=224x224 at 0x7F1C273ACE10>\n",
            "<PIL.Image.Image image mode=RGB size=224x224 at 0x7F1C226DB850>\n",
            "<PIL.Image.Image image mode=RGB size=224x224 at 0x7F1C226DBAD0>\n",
            "<PIL.Image.Image image mode=RGB size=224x224 at 0x7F1C226DBF90>\n",
            "<PIL.Image.Image image mode=RGB size=224x224 at 0x7F1C226DB850>\n",
            "<PIL.Image.Image image mode=RGB size=224x224 at 0x7F1C273ACFD0>\n",
            "<PIL.Image.Image image mode=RGB size=224x224 at 0x7F1C273ACFD0>\n",
            "<PIL.Image.Image image mode=RGB size=224x224 at 0x7F1C226DBAD0>\n",
            "<PIL.Image.Image image mode=RGB size=224x224 at 0x7F1C273ACFD0>\n",
            "<PIL.Image.Image image mode=RGB size=224x224 at 0x7F1C273ACFD0>\n",
            "<PIL.Image.Image image mode=RGB size=224x224 at 0x7F1C226DBAD0>\n",
            "<PIL.Image.Image image mode=RGB size=224x224 at 0x7F1C273ACFD0>\n",
            "<PIL.Image.Image image mode=RGB size=224x224 at 0x7F1C273ACFD0>\n",
            "<PIL.Image.Image image mode=RGB size=224x224 at 0x7F1C273ACFD0>\n",
            "<PIL.Image.Image image mode=RGB size=224x224 at 0x7F1C226DB850>\n",
            "<PIL.Image.Image image mode=RGB size=224x224 at 0x7F1C273ACFD0>\n",
            "<PIL.Image.Image image mode=RGB size=224x224 at 0x7F1C273ACFD0>\n",
            "<PIL.Image.Image image mode=RGB size=224x224 at 0x7F1C226DBF90>\n",
            "<PIL.Image.Image image mode=RGB size=224x224 at 0x7F1C273ACFD0>\n",
            "<PIL.Image.Image image mode=RGB size=224x224 at 0x7F1C273ACFD0>\n",
            "<PIL.Image.Image image mode=RGB size=224x224 at 0x7F1C226DBF90>\n",
            "<PIL.Image.Image image mode=RGB size=224x224 at 0x7F1C273ACFD0>\n",
            "<PIL.Image.Image image mode=RGB size=224x224 at 0x7F1C226DBAD0>\n",
            "<PIL.Image.Image image mode=RGB size=224x224 at 0x7F1C273ACFD0>\n",
            "<PIL.Image.Image image mode=RGB size=224x224 at 0x7F1C226DB850>\n",
            "<PIL.Image.Image image mode=RGB size=224x224 at 0x7F1C226DBF90>\n",
            "<PIL.Image.Image image mode=RGB size=224x224 at 0x7F1C226DBAD0>\n",
            "<PIL.Image.Image image mode=RGB size=224x224 at 0x7F1C273ACDD0>\n",
            "<PIL.Image.Image image mode=RGB size=224x224 at 0x7F1C226DBF90>\n",
            "<PIL.Image.Image image mode=RGB size=224x224 at 0x7F1C273ACDD0>\n",
            "<PIL.Image.Image image mode=RGB size=224x224 at 0x7F1C226DB850>\n",
            "<PIL.Image.Image image mode=RGB size=224x224 at 0x7F1C226DBB50>\n",
            "<PIL.Image.Image image mode=RGB size=224x224 at 0x7F1C273ACDD0>\n",
            "<PIL.Image.Image image mode=RGB size=224x224 at 0x7F1C273ACDD0>\n",
            "<PIL.Image.Image image mode=RGB size=224x224 at 0x7F1C273ACDD0>\n",
            "<PIL.Image.Image image mode=RGB size=224x224 at 0x7F1C226DBF90>\n",
            "<PIL.Image.Image image mode=RGB size=224x224 at 0x7F1C273ACDD0>\n",
            "<PIL.Image.Image image mode=RGB size=224x224 at 0x7F1C273ACDD0>\n",
            "<PIL.Image.Image image mode=RGB size=224x224 at 0x7F1C226DBF90>\n",
            "<PIL.Image.Image image mode=RGB size=224x224 at 0x7F1C273ACDD0>\n",
            "<PIL.Image.Image image mode=RGB size=224x224 at 0x7F1C226E1C50>\n",
            "<PIL.Image.Image image mode=RGB size=224x224 at 0x7F1C226EB5D0>\n",
            "<PIL.Image.Image image mode=RGB size=224x224 at 0x7F1C226DB850>\n",
            "<PIL.Image.Image image mode=RGB size=224x224 at 0x7F1C226EB5D0>\n",
            "<PIL.Image.Image image mode=RGB size=224x224 at 0x7F1C226EB5D0>\n",
            "<PIL.Image.Image image mode=RGB size=224x224 at 0x7F1C226F60D0>\n",
            "<PIL.Image.Image image mode=RGB size=224x224 at 0x7F1C226F60D0>\n",
            "<PIL.Image.Image image mode=RGB size=224x224 at 0x7F1C226EB5D0>\n",
            "<PIL.Image.Image image mode=RGB size=224x224 at 0x7F1C226EB5D0>\n",
            "<PIL.Image.Image image mode=RGB size=224x224 at 0x7F1C226F60D0>\n",
            "<PIL.Image.Image image mode=RGB size=224x224 at 0x7F1C226F60D0>\n",
            "<PIL.Image.Image image mode=RGB size=224x224 at 0x7F1C226EB5D0>\n",
            "<PIL.Image.Image image mode=RGB size=224x224 at 0x7F1C226EB5D0>\n",
            "<PIL.Image.Image image mode=RGB size=224x224 at 0x7F1C226F60D0>\n",
            "<PIL.Image.Image image mode=RGB size=224x224 at 0x7F1C226F60D0>\n",
            "<PIL.Image.Image image mode=RGB size=224x224 at 0x7F1C226EB5D0>\n",
            "<PIL.Image.Image image mode=RGB size=224x224 at 0x7F1C226EB5D0>\n",
            "<PIL.Image.Image image mode=RGB size=224x224 at 0x7F1C226F60D0>\n",
            "<PIL.Image.Image image mode=RGB size=224x224 at 0x7F1C226F60D0>\n",
            "<PIL.Image.Image image mode=RGB size=224x224 at 0x7F1C226F60D0>\n",
            "<PIL.Image.Image image mode=RGB size=224x224 at 0x7F1C226F60D0>\n",
            "<PIL.Image.Image image mode=RGB size=224x224 at 0x7F1C226EB5D0>\n",
            "<PIL.Image.Image image mode=RGB size=224x224 at 0x7F1C226DB850>\n",
            "<PIL.Image.Image image mode=RGB size=224x224 at 0x7F1C226F60D0>\n",
            "<PIL.Image.Image image mode=RGB size=224x224 at 0x7F1C226EB5D0>\n",
            "<PIL.Image.Image image mode=RGB size=224x224 at 0x7F1C226F60D0>\n",
            "<PIL.Image.Image image mode=RGB size=224x224 at 0x7F1C226F60D0>\n",
            "<PIL.Image.Image image mode=RGB size=224x224 at 0x7F1C226EB5D0>\n",
            "<PIL.Image.Image image mode=RGB size=224x224 at 0x7F1C226E1DD0>\n",
            "<PIL.Image.Image image mode=RGB size=224x224 at 0x7F1C226EB5D0>\n",
            "<PIL.Image.Image image mode=RGB size=224x224 at 0x7F1C226F60D0>\n",
            "<PIL.Image.Image image mode=RGB size=224x224 at 0x7F1C226DB150>\n",
            "<PIL.Image.Image image mode=RGB size=224x224 at 0x7F1C226E1DD0>\n",
            "<PIL.Image.Image image mode=RGB size=224x224 at 0x7F1C273ACFD0>\n",
            "<PIL.Image.Image image mode=RGB size=224x224 at 0x7F1C226F60D0>\n",
            "<PIL.Image.Image image mode=RGB size=224x224 at 0x7F1C226DB150>\n",
            "<PIL.Image.Image image mode=RGB size=224x224 at 0x7F1C226E1DD0>\n",
            "<PIL.Image.Image image mode=RGB size=224x224 at 0x7F1C226F60D0>\n",
            "<PIL.Image.Image image mode=RGB size=224x224 at 0x7F1C226DB150>\n",
            "<PIL.Image.Image image mode=RGB size=224x224 at 0x7F1C226E1DD0>\n",
            "<PIL.Image.Image image mode=RGB size=224x224 at 0x7F1C226F60D0>\n",
            "<PIL.Image.Image image mode=RGB size=224x224 at 0x7F1C226DB150>\n",
            "<PIL.Image.Image image mode=RGB size=224x224 at 0x7F1C226E1DD0>\n",
            "<PIL.Image.Image image mode=RGB size=224x224 at 0x7F1C273ACED0>\n",
            "<PIL.Image.Image image mode=RGB size=224x224 at 0x7F1C226DB150>\n",
            "<PIL.Image.Image image mode=RGB size=224x224 at 0x7F1C273ACFD0>\n",
            "<PIL.Image.Image image mode=RGB size=224x224 at 0x7F1C226DB850>\n",
            "<PIL.Image.Image image mode=RGB size=224x224 at 0x7F1C226E1DD0>\n",
            "<PIL.Image.Image image mode=RGB size=224x224 at 0x7F1C226F60D0>\n",
            "<PIL.Image.Image image mode=RGB size=224x224 at 0x7F1C226DB150>\n",
            "<PIL.Image.Image image mode=RGB size=224x224 at 0x7F1C226E1DD0>\n",
            "<PIL.Image.Image image mode=RGB size=224x224 at 0x7F1C226F60D0>\n",
            "<PIL.Image.Image image mode=RGB size=224x224 at 0x7F1C226F60D0>\n",
            "<PIL.Image.Image image mode=RGB size=224x224 at 0x7F1C226E1DD0>\n",
            "<PIL.Image.Image image mode=RGB size=224x224 at 0x7F1C273ACDD0>\n",
            "<PIL.Image.Image image mode=RGB size=224x224 at 0x7F1C273ACFD0>\n",
            "<PIL.Image.Image image mode=RGB size=224x224 at 0x7F1C22DDA150>\n",
            "<PIL.Image.Image image mode=RGB size=224x224 at 0x7F1C273ACDD0>\n",
            "<PIL.Image.Image image mode=RGB size=224x224 at 0x7F1C273ACFD0>\n",
            "<PIL.Image.Image image mode=RGB size=224x224 at 0x7F1C22DDA150>\n",
            "<PIL.Image.Image image mode=RGB size=224x224 at 0x7F1C273ACDD0>\n",
            "<PIL.Image.Image image mode=RGB size=224x224 at 0x7F1C22D46C90>\n",
            "<PIL.Image.Image image mode=RGB size=224x224 at 0x7F1C22D8DC90>\n",
            "<PIL.Image.Image image mode=RGB size=224x224 at 0x7F1C22DDA150>\n",
            "<PIL.Image.Image image mode=RGB size=224x224 at 0x7F1C22D46C90>\n",
            "<PIL.Image.Image image mode=RGB size=224x224 at 0x7F1C22D8DC90>\n",
            "<PIL.Image.Image image mode=RGB size=224x224 at 0x7F1C22DDA150>\n",
            "<PIL.Image.Image image mode=RGB size=224x224 at 0x7F1C22D46C90>\n",
            "<PIL.Image.Image image mode=RGB size=224x224 at 0x7F1C22D8DC90>\n",
            "<PIL.Image.Image image mode=RGB size=224x224 at 0x7F1C22DDA150>\n",
            "<PIL.Image.Image image mode=RGB size=224x224 at 0x7F1C22D46C90>\n",
            "<PIL.Image.Image image mode=RGB size=224x224 at 0x7F1C22D8DC90>\n",
            "<PIL.Image.Image image mode=RGB size=224x224 at 0x7F1C22DDA150>\n",
            "<PIL.Image.Image image mode=RGB size=224x224 at 0x7F1C22D46C90>\n",
            "<PIL.Image.Image image mode=RGB size=224x224 at 0x7F1C22D8DC90>\n",
            "<PIL.Image.Image image mode=RGB size=224x224 at 0x7F1C22DDA150>\n",
            "<PIL.Image.Image image mode=RGB size=224x224 at 0x7F1C273ACFD0>\n",
            "<PIL.Image.Image image mode=RGB size=224x224 at 0x7F1C22D8DC90>\n",
            "<PIL.Image.Image image mode=RGB size=224x224 at 0x7F1C22DDA150>\n",
            "<PIL.Image.Image image mode=RGB size=224x224 at 0x7F1C273ACFD0>\n",
            "<PIL.Image.Image image mode=RGB size=224x224 at 0x7F1C22800D50>\n",
            "<PIL.Image.Image image mode=RGB size=224x224 at 0x7F1C22D8DC90>\n",
            "<PIL.Image.Image image mode=RGB size=224x224 at 0x7F1C273ACFD0>\n",
            "<PIL.Image.Image image mode=RGB size=224x224 at 0x7F1C22DDA150>\n",
            "<PIL.Image.Image image mode=RGB size=224x224 at 0x7F1C22D8DC90>\n",
            "<PIL.Image.Image image mode=RGB size=224x224 at 0x7F1C273ACFD0>\n",
            "<PIL.Image.Image image mode=RGB size=224x224 at 0x7F1C22DDA150>\n",
            "<PIL.Image.Image image mode=RGB size=224x224 at 0x7F1C22D8DC90>\n",
            "<PIL.Image.Image image mode=RGB size=224x224 at 0x7F1C273ACFD0>\n",
            "<PIL.Image.Image image mode=RGB size=224x224 at 0x7F1C22DDA150>\n",
            "<PIL.Image.Image image mode=RGB size=224x224 at 0x7F1C22D8DC90>\n",
            "<PIL.Image.Image image mode=RGB size=224x224 at 0x7F1C273ACFD0>\n",
            "<PIL.Image.Image image mode=RGB size=224x224 at 0x7F1C22DDA150>\n",
            "<PIL.Image.Image image mode=RGB size=224x224 at 0x7F1C226E1DD0>\n",
            "<PIL.Image.Image image mode=RGB size=224x224 at 0x7F1C22DC91D0>\n",
            "<PIL.Image.Image image mode=RGB size=224x224 at 0x7F1C22DDA150>\n",
            "<PIL.Image.Image image mode=RGB size=224x224 at 0x7F1C226E1DD0>\n",
            "<PIL.Image.Image image mode=RGB size=224x224 at 0x7F1C22DC91D0>\n",
            "<PIL.Image.Image image mode=RGB size=224x224 at 0x7F1C22DDA150>\n",
            "<PIL.Image.Image image mode=RGB size=224x224 at 0x7F1C226E1DD0>\n",
            "<PIL.Image.Image image mode=RGB size=224x224 at 0x7F1C22DC91D0>\n",
            "<PIL.Image.Image image mode=RGB size=224x224 at 0x7F1C22DDA150>\n",
            "<PIL.Image.Image image mode=RGB size=224x224 at 0x7F1C226E1DD0>\n",
            "<PIL.Image.Image image mode=RGB size=224x224 at 0x7F1C22DC91D0>\n",
            "<PIL.Image.Image image mode=RGB size=224x224 at 0x7F1C22DDA150>\n",
            "<PIL.Image.Image image mode=RGB size=224x224 at 0x7F1C226E1DD0>\n",
            "<PIL.Image.Image image mode=RGB size=224x224 at 0x7F1C22DC91D0>\n",
            "<PIL.Image.Image image mode=RGB size=224x224 at 0x7F1C22DDA150>\n",
            "<PIL.Image.Image image mode=RGB size=224x224 at 0x7F1C226E1DD0>\n",
            "<PIL.Image.Image image mode=RGB size=224x224 at 0x7F1C22D41590>\n",
            "<PIL.Image.Image image mode=RGB size=224x224 at 0x7F1C22DDA150>\n",
            "<PIL.Image.Image image mode=RGB size=224x224 at 0x7F1C226E1DD0>\n",
            "<PIL.Image.Image image mode=RGB size=224x224 at 0x7F1C22D41590>\n",
            "<PIL.Image.Image image mode=RGB size=224x224 at 0x7F1C22DDA150>\n",
            "<PIL.Image.Image image mode=RGB size=224x224 at 0x7F1C226E1DD0>\n",
            "<PIL.Image.Image image mode=RGB size=224x224 at 0x7F1C22D41590>\n",
            "<PIL.Image.Image image mode=RGB size=224x224 at 0x7F1C22DCB910>\n",
            "<PIL.Image.Image image mode=RGB size=224x224 at 0x7F1C226E1DD0>\n",
            "<PIL.Image.Image image mode=RGB size=224x224 at 0x7F1C273ACFD0>\n",
            "<PIL.Image.Image image mode=RGB size=224x224 at 0x7F1C22DCB910>\n",
            "<PIL.Image.Image image mode=RGB size=224x224 at 0x7F1C226E1DD0>\n",
            "<PIL.Image.Image image mode=RGB size=224x224 at 0x7F1C226E1DD0>\n",
            "<PIL.Image.Image image mode=RGB size=224x224 at 0x7F1C226E1DD0>\n",
            "<PIL.Image.Image image mode=RGB size=224x224 at 0x7F1C22D41590>\n",
            "<PIL.Image.Image image mode=RGB size=224x224 at 0x7F1C22DCB910>\n",
            "<PIL.Image.Image image mode=RGB size=224x224 at 0x7F1C226E1DD0>\n",
            "<PIL.Image.Image image mode=RGB size=224x224 at 0x7F1C22D41590>\n",
            "<PIL.Image.Image image mode=RGB size=224x224 at 0x7F1C22DCB910>\n",
            "<PIL.Image.Image image mode=RGB size=224x224 at 0x7F1C226E1DD0>\n",
            "<PIL.Image.Image image mode=RGB size=224x224 at 0x7F1C22D41590>\n",
            "<PIL.Image.Image image mode=RGB size=224x224 at 0x7F1C22DCB910>\n",
            "<PIL.Image.Image image mode=RGB size=224x224 at 0x7F1C226E1DD0>\n",
            "<PIL.Image.Image image mode=RGB size=224x224 at 0x7F1C22D41590>\n",
            "<PIL.Image.Image image mode=RGB size=224x224 at 0x7F1C227E4AD0>\n",
            "<PIL.Image.Image image mode=RGB size=224x224 at 0x7F1C226E1DD0>\n",
            "<PIL.Image.Image image mode=RGB size=224x224 at 0x7F1C22D276D0>\n",
            "<PIL.Image.Image image mode=RGB size=224x224 at 0x7F1C227E4AD0>\n",
            "<PIL.Image.Image image mode=RGB size=224x224 at 0x7F1C226E1DD0>\n",
            "<PIL.Image.Image image mode=RGB size=224x224 at 0x7F1C22D276D0>\n",
            "<PIL.Image.Image image mode=RGB size=224x224 at 0x7F1C227E4AD0>\n",
            "<PIL.Image.Image image mode=RGB size=224x224 at 0x7F1C226E1DD0>\n",
            "<PIL.Image.Image image mode=RGB size=224x224 at 0x7F1C22D41590>\n",
            "<PIL.Image.Image image mode=RGB size=224x224 at 0x7F1C227E4AD0>\n",
            "<PIL.Image.Image image mode=RGB size=224x224 at 0x7F1C22DCB910>\n",
            "<PIL.Image.Image image mode=RGB size=224x224 at 0x7F1C22D41590>\n",
            "<PIL.Image.Image image mode=RGB size=224x224 at 0x7F1C227E4AD0>\n",
            "<PIL.Image.Image image mode=RGB size=224x224 at 0x7F1C22DCB910>\n",
            "<PIL.Image.Image image mode=RGB size=224x224 at 0x7F1C22D41590>\n",
            "<PIL.Image.Image image mode=RGB size=224x224 at 0x7F1C227E4AD0>\n",
            "<PIL.Image.Image image mode=RGB size=224x224 at 0x7F1C22DCB910>\n",
            "<PIL.Image.Image image mode=RGB size=224x224 at 0x7F1C22D41590>\n",
            "<PIL.Image.Image image mode=RGB size=224x224 at 0x7F1C227E4AD0>\n",
            "<PIL.Image.Image image mode=RGB size=224x224 at 0x7F1C22D276D0>\n",
            "<PIL.Image.Image image mode=RGB size=224x224 at 0x7F1C22D41590>\n",
            "<PIL.Image.Image image mode=RGB size=224x224 at 0x7F1C226E1DD0>\n",
            "<PIL.Image.Image image mode=RGB size=224x224 at 0x7F1C22D276D0>\n",
            "<PIL.Image.Image image mode=RGB size=224x224 at 0x7F1C22D41590>\n",
            "<PIL.Image.Image image mode=RGB size=224x224 at 0x7F1C226E1DD0>\n",
            "<PIL.Image.Image image mode=RGB size=224x224 at 0x7F1C227E4AD0>\n",
            "<PIL.Image.Image image mode=RGB size=224x224 at 0x7F1C22D41590>\n",
            "<PIL.Image.Image image mode=RGB size=224x224 at 0x7F1C22DCB910>\n",
            "<PIL.Image.Image image mode=RGB size=224x224 at 0x7F1C273ACFD0>\n",
            "<PIL.Image.Image image mode=RGB size=224x224 at 0x7F1C22D41590>\n",
            "<PIL.Image.Image image mode=RGB size=224x224 at 0x7F1C22DCB910>\n",
            "<PIL.Image.Image image mode=RGB size=224x224 at 0x7F1C227E4AD0>\n",
            "<PIL.Image.Image image mode=RGB size=224x224 at 0x7F1C22D41590>\n",
            "<PIL.Image.Image image mode=RGB size=224x224 at 0x7F1C226F6490>\n",
            "<PIL.Image.Image image mode=RGB size=224x224 at 0x7F1C22D946D0>\n",
            "<PIL.Image.Image image mode=RGB size=224x224 at 0x7F1C273ACFD0>\n",
            "<PIL.Image.Image image mode=RGB size=224x224 at 0x7F1C22D946D0>\n",
            "<PIL.Image.Image image mode=RGB size=224x224 at 0x7F1C22793B10>\n",
            "<PIL.Image.Image image mode=RGB size=224x224 at 0x7F1C22D41590>\n",
            "<PIL.Image.Image image mode=RGB size=224x224 at 0x7F1C22D946D0>\n",
            "<PIL.Image.Image image mode=RGB size=224x224 at 0x7F1C22793B10>\n",
            "<PIL.Image.Image image mode=RGB size=224x224 at 0x7F1C22D41590>\n",
            "<PIL.Image.Image image mode=RGB size=224x224 at 0x7F1C22D276D0>\n",
            "<PIL.Image.Image image mode=RGB size=224x224 at 0x7F1C22793B10>\n",
            "<PIL.Image.Image image mode=RGB size=224x224 at 0x7F1C226F6490>\n",
            "<PIL.Image.Image image mode=RGB size=224x224 at 0x7F1C22D946D0>\n",
            "<PIL.Image.Image image mode=RGB size=224x224 at 0x7F1C226F6490>\n"
          ]
        }
      ]
    },
    {
      "cell_type": "code",
      "source": [
        "print(labels)"
      ],
      "metadata": {
        "colab": {
          "base_uri": "https://localhost:8080/"
        },
        "id": "P0KJZvVDtsPE",
        "outputId": "c86f731c-57da-4a76-b0ea-6b836944ff82"
      },
      "execution_count": 15,
      "outputs": [
        {
          "output_type": "stream",
          "name": "stdout",
          "text": [
            "['JERAWAT', 'JERAWAT', 'JERAWAT', 'JERAWAT', 'JERAWAT', 'JERAWAT', 'JERAWAT', 'JERAWAT', 'JERAWAT', 'JERAWAT', 'JERAWAT', 'JERAWAT', 'JERAWAT', 'JERAWAT', 'JERAWAT', 'JERAWAT', 'JERAWAT', 'JERAWAT', 'JERAWAT', 'JERAWAT', 'JERAWAT', 'JERAWAT', 'JERAWAT', 'JERAWAT', 'JERAWAT', 'JERAWAT', 'JERAWAT', 'JERAWAT', 'JERAWAT', 'JERAWAT', 'JERAWAT', 'JERAWAT', 'JERAWAT', 'JERAWAT', 'JERAWAT', 'JERAWAT', 'JERAWAT', 'JERAWAT', 'JERAWAT', 'JERAWAT', 'JERAWAT', 'JERAWAT', 'JERAWAT', 'JERAWAT', 'JERAWAT', 'JERAWAT', 'JERAWAT', 'JERAWAT', 'JERAWAT', 'JERAWAT', 'JERAWAT', 'JERAWAT', 'JERAWAT', 'JERAWAT', 'JERAWAT', 'JERAWAT', 'JERAWAT', 'JERAWAT', 'JERAWAT', 'JERAWAT', 'JERAWAT', 'JERAWAT', 'JERAWAT', 'JERAWAT', 'JERAWAT', 'JERAWAT', 'JERAWAT', 'JERAWAT', 'JERAWAT', 'JERAWAT', 'JERAWAT', 'JERAWAT', 'JERAWAT', 'JERAWAT', 'JERAWAT', 'JERAWAT', 'JERAWAT', 'JERAWAT', 'JERAWAT', 'JERAWAT', 'JERAWAT', 'JERAWAT', 'JERAWAT', 'JERAWAT', 'JERAWAT', 'JERAWAT', 'JERAWAT', 'JERAWAT', 'JERAWAT', 'JERAWAT', 'JERAWAT', 'JERAWAT', 'JERAWAT', 'JERAWAT', 'JERAWAT', 'JERAWAT', 'JERAWAT', 'JERAWAT', 'JERAWAT', 'JERAWAT', 'JERAWAT', 'JERAWAT', 'JERAWAT', 'JERAWAT', 'JERAWAT', 'JERAWAT', 'JERAWAT', 'JERAWAT', 'JERAWAT', 'JERAWAT', 'JERAWAT', 'JERAWAT', 'JERAWAT', 'JERAWAT', 'JERAWAT', 'JERAWAT', 'JERAWAT', 'JERAWAT', 'JERAWAT', 'JERAWAT', 'JERAWAT', 'JERAWAT', 'JERAWAT', 'JERAWAT', 'JERAWAT', 'JERAWAT', 'JERAWAT', 'JERAWAT', 'JERAWAT', 'JERAWAT', 'JERAWAT', 'JERAWAT', 'JERAWAT', 'JERAWAT', 'JERAWAT', 'JERAWAT', 'JERAWAT', 'JERAWAT', 'JERAWAT', 'JERAWAT', 'JERAWAT', 'JERAWAT', 'JERAWAT', 'JERAWAT', 'JERAWAT', 'JERAWAT', 'JERAWAT', 'JERAWAT', 'JERAWAT', 'JERAWAT', 'JERAWAT', 'JERAWAT', 'JERAWAT', 'JERAWAT', 'JERAWAT', 'JERAWAT', 'JERAWAT', 'JERAWAT', 'JERAWAT', 'JERAWAT', 'JERAWAT', 'JERAWAT', 'JERAWAT', 'JERAWAT', 'JERAWAT', 'JERAWAT', 'JERAWAT', 'JERAWAT', 'JERAWAT', 'JERAWAT', 'JERAWAT', 'JERAWAT', 'JERAWAT', 'JERAWAT', 'JERAWAT', 'JERAWAT', 'JERAWAT', 'JERAWAT', 'JERAWAT', 'JERAWAT', 'JERAWAT', 'JERAWAT', 'JERAWAT', 'JERAWAT', 'JERAWAT', 'JERAWAT', 'JERAWAT', 'JERAWAT', 'JERAWAT', 'JERAWAT', 'JERAWAT', 'JERAWAT', 'JERAWAT', 'JERAWAT', 'JERAWAT', 'JERAWAT', 'JERAWAT', 'JERAWAT', 'JERAWAT', 'JERAWAT', 'JERAWAT', 'JERAWAT', 'JERAWAT', 'JERAWAT', 'JERAWAT', 'JERAWAT', 'JERAWAT', 'JERAWAT', 'JERAWAT', 'JERAWAT', 'JERAWAT', 'JERAWAT', 'JERAWAT', 'JERAWAT', 'JERAWAT', 'JERAWAT', 'JERAWAT', 'JERAWAT', 'JERAWAT', 'JERAWAT', 'JERAWAT', 'JERAWAT', 'JERAWAT', 'JERAWAT', 'JERAWAT', 'JERAWAT', 'JERAWAT', 'JERAWAT', 'JERAWAT', 'JERAWAT', 'JERAWAT', 'JERAWAT', 'JERAWAT', 'JERAWAT', 'JERAWAT', 'JERAWAT', 'JERAWAT', 'JERAWAT', 'JERAWAT', 'JERAWAT', 'JERAWAT', 'JERAWAT', 'JERAWAT', 'JERAWAT', 'JERAWAT', 'JERAWAT', 'JERAWAT']\n"
          ]
        }
      ]
    },
    {
      "cell_type": "code",
      "source": [
        "# convert the data and labels to NumPy arrays\n",
        "data = np.array(data, dtype=\"float32\")\n",
        "labels = np.array(labels)"
      ],
      "metadata": {
        "id": "6s1idqpsq5Ne"
      },
      "execution_count": 16,
      "outputs": []
    },
    {
      "cell_type": "code",
      "source": [
        "# perform one-hot encoding on the labels\n",
        "lb = LabelBinarizer()\n",
        "labels = lb.fit_transform(labels)\n",
        "labels = to_categorical(labels)\n",
        "\n",
        "# partition the data into training and testing splits using 75% of\n",
        "# the data for training and the remaining 25% for testing\n",
        "(trainX, testX, trainY, testY) = train_test_split(data, labels,\n",
        "\ttest_size=0.20, stratify=labels, random_state=42)"
      ],
      "metadata": {
        "id": "xqZkqZoDrPW5"
      },
      "execution_count": 17,
      "outputs": []
    },
    {
      "cell_type": "code",
      "source": [
        "# construct the training image generator for data augmentation\n",
        "aug = ImageDataGenerator(\n",
        "\trotation_range=20,\n",
        "\tzoom_range=0.15,\n",
        "\twidth_shift_range=0.2,\n",
        "\theight_shift_range=0.2,\n",
        "\tshear_range=0.15,\n",
        "\thorizontal_flip=True,\n",
        "\tfill_mode=\"nearest\")\n"
      ],
      "metadata": {
        "id": "VZIn9KHzriO-"
      },
      "execution_count": 18,
      "outputs": []
    },
    {
      "cell_type": "code",
      "source": [
        "# load the MobileNetV2 network, ensuring the head FC layer sets are\n",
        "# left off\n",
        "baseModel = MobileNetV2(weights=\"imagenet\", include_top=False,\n",
        "\tinput_tensor=Input(shape=(224, 224, 3)))"
      ],
      "metadata": {
        "colab": {
          "base_uri": "https://localhost:8080/"
        },
        "id": "TT5TL68sum0W",
        "outputId": "b8513323-9e17-4fd9-d880-71f322139948"
      },
      "execution_count": 19,
      "outputs": [
        {
          "output_type": "stream",
          "name": "stdout",
          "text": [
            "WARNING:tensorflow:`input_shape` is undefined or non-square, or `rows` is not in [96, 128, 160, 192, 224]. Weights for input shape (224, 224) will be loaded as the default.\n",
            "Downloading data from https://storage.googleapis.com/tensorflow/keras-applications/mobilenet_v2/mobilenet_v2_weights_tf_dim_ordering_tf_kernels_1.0_224_no_top.h5\n",
            "9412608/9406464 [==============================] - 0s 0us/step\n",
            "9420800/9406464 [==============================] - 0s 0us/step\n"
          ]
        }
      ]
    },
    {
      "cell_type": "code",
      "source": [
        "# construct the head of the model that will be placed on top of the\n",
        "# the base model\n",
        "headModel = baseModel.output\n",
        "headModel = AveragePooling2D(pool_size=(7, 7))(headModel)\n",
        "headModel = Flatten(name=\"flatten\")(headModel)\n",
        "headModel = Dense(128, activation=\"relu\")(headModel)\n",
        "headModel = Dropout(0.5)(headModel)\n",
        "headModel = Dense(2, activation=\"softmax\")(headModel)\n",
        "\n",
        "# place the head FC model on top of the base model (this will become\n",
        "# the actual model we will train)\n",
        "model = Model(inputs=baseModel.input, outputs=headModel)\n",
        "\n",
        "# loop over all layers in the base model and freeze them so they will\n",
        "# *not* be updated during the first training process\n",
        "for layer in baseModel.layers:\n",
        "\tlayer.trainable = False"
      ],
      "metadata": {
        "id": "w81Pg0AguqHq"
      },
      "execution_count": 20,
      "outputs": []
    },
    {
      "cell_type": "code",
      "source": [
        "# compile our model\n",
        "print(\"[INFO] compiling model...\")\n",
        "opt = Adam(lr=INIT_LR, decay=INIT_LR / EPOCHS)\n",
        "model.compile(loss=\"binary_crossentropy\", optimizer=opt,\n",
        "\tmetrics=[\"accuracy\"])\n"
      ],
      "metadata": {
        "colab": {
          "base_uri": "https://localhost:8080/"
        },
        "id": "BP7QEIoEu0uw",
        "outputId": "65621a01-289d-45b1-b6d2-8e2d3e574e73"
      },
      "execution_count": 21,
      "outputs": [
        {
          "output_type": "stream",
          "name": "stdout",
          "text": [
            "[INFO] compiling model...\n"
          ]
        },
        {
          "output_type": "stream",
          "name": "stderr",
          "text": [
            "/usr/local/lib/python3.7/dist-packages/keras/optimizer_v2/adam.py:105: UserWarning: The `lr` argument is deprecated, use `learning_rate` instead.\n",
            "  super(Adam, self).__init__(name, **kwargs)\n"
          ]
        }
      ]
    }
  ]
}